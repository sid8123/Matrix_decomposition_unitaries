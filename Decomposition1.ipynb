{
  "nbformat": 4,
  "nbformat_minor": 0,
  "metadata": {
    "colab": {
      "name": "Decomposition1.ipynb",
      "provenance": [],
      "authorship_tag": "ABX9TyMphbFSmfn7UIsvPDOmJc8B",
      "include_colab_link": true
    },
    "kernelspec": {
      "name": "python3",
      "display_name": "Python 3"
    },
    "language_info": {
      "name": "python"
    }
  },
  "cells": [
    {
      "cell_type": "markdown",
      "metadata": {
        "id": "view-in-github",
        "colab_type": "text"
      },
      "source": [
        "<a href=\"https://colab.research.google.com/github/sid8123/Matrix_decomposition_unitaries/blob/main/Decomposition1.ipynb\" target=\"_parent\"><img src=\"https://colab.research.google.com/assets/colab-badge.svg\" alt=\"Open In Colab\"/></a>"
      ]
    },
    {
      "cell_type": "code",
      "metadata": {
        "colab": {
          "base_uri": "https://localhost:8080/"
        },
        "id": "XLc25KiBxaO7",
        "outputId": "e70827c9-74d0-4047-b0c8-66a8ecc18c87"
      },
      "source": [
        "!pip install pennylane"
      ],
      "execution_count": null,
      "outputs": [
        {
          "output_type": "stream",
          "text": [
            "Collecting pennylane\n",
            "\u001b[?25l  Downloading https://files.pythonhosted.org/packages/e4/f9/d3594cf0335d0fb3ec72947bbc6db204f1332588463bb5b9b43083ea35c9/PennyLane-0.14.1.tar.gz (404kB)\n",
            "\r\u001b[K     |▉                               | 10kB 14.2MB/s eta 0:00:01\r\u001b[K     |█▋                              | 20kB 14.3MB/s eta 0:00:01\r\u001b[K     |██▍                             | 30kB 10.0MB/s eta 0:00:01\r\u001b[K     |███▎                            | 40kB 7.6MB/s eta 0:00:01\r\u001b[K     |████                            | 51kB 7.5MB/s eta 0:00:01\r\u001b[K     |████▉                           | 61kB 7.2MB/s eta 0:00:01\r\u001b[K     |█████▊                          | 71kB 7.0MB/s eta 0:00:01\r\u001b[K     |██████▌                         | 81kB 7.6MB/s eta 0:00:01\r\u001b[K     |███████▎                        | 92kB 7.3MB/s eta 0:00:01\r\u001b[K     |████████                        | 102kB 7.7MB/s eta 0:00:01\r\u001b[K     |█████████                       | 112kB 7.7MB/s eta 0:00:01\r\u001b[K     |█████████▊                      | 122kB 7.7MB/s eta 0:00:01\r\u001b[K     |██████████▌                     | 133kB 7.7MB/s eta 0:00:01\r\u001b[K     |███████████▍                    | 143kB 7.7MB/s eta 0:00:01\r\u001b[K     |████████████▏                   | 153kB 7.7MB/s eta 0:00:01\r\u001b[K     |█████████████                   | 163kB 7.7MB/s eta 0:00:01\r\u001b[K     |█████████████▉                  | 174kB 7.7MB/s eta 0:00:01\r\u001b[K     |██████████████▋                 | 184kB 7.7MB/s eta 0:00:01\r\u001b[K     |███████████████▍                | 194kB 7.7MB/s eta 0:00:01\r\u001b[K     |████████████████▏               | 204kB 7.7MB/s eta 0:00:01\r\u001b[K     |█████████████████               | 215kB 7.7MB/s eta 0:00:01\r\u001b[K     |█████████████████▉              | 225kB 7.7MB/s eta 0:00:01\r\u001b[K     |██████████████████▋             | 235kB 7.7MB/s eta 0:00:01\r\u001b[K     |███████████████████▌            | 245kB 7.7MB/s eta 0:00:01\r\u001b[K     |████████████████████▎           | 256kB 7.7MB/s eta 0:00:01\r\u001b[K     |█████████████████████           | 266kB 7.7MB/s eta 0:00:01\r\u001b[K     |█████████████████████▉          | 276kB 7.7MB/s eta 0:00:01\r\u001b[K     |██████████████████████▊         | 286kB 7.7MB/s eta 0:00:01\r\u001b[K     |███████████████████████▌        | 296kB 7.7MB/s eta 0:00:01\r\u001b[K     |████████████████████████▎       | 307kB 7.7MB/s eta 0:00:01\r\u001b[K     |█████████████████████████▏      | 317kB 7.7MB/s eta 0:00:01\r\u001b[K     |██████████████████████████      | 327kB 7.7MB/s eta 0:00:01\r\u001b[K     |██████████████████████████▊     | 337kB 7.7MB/s eta 0:00:01\r\u001b[K     |███████████████████████████▋    | 348kB 7.7MB/s eta 0:00:01\r\u001b[K     |████████████████████████████▍   | 358kB 7.7MB/s eta 0:00:01\r\u001b[K     |█████████████████████████████▏  | 368kB 7.7MB/s eta 0:00:01\r\u001b[K     |██████████████████████████████  | 378kB 7.7MB/s eta 0:00:01\r\u001b[K     |██████████████████████████████▉ | 389kB 7.7MB/s eta 0:00:01\r\u001b[K     |███████████████████████████████▋| 399kB 7.7MB/s eta 0:00:01\r\u001b[K     |████████████████████████████████| 409kB 7.7MB/s \n",
            "\u001b[?25hRequirement already satisfied: numpy in /usr/local/lib/python3.7/dist-packages (from pennylane) (1.19.5)\n",
            "Requirement already satisfied: scipy in /usr/local/lib/python3.7/dist-packages (from pennylane) (1.4.1)\n",
            "Requirement already satisfied: networkx in /usr/local/lib/python3.7/dist-packages (from pennylane) (2.5)\n",
            "Requirement already satisfied: autograd in /usr/local/lib/python3.7/dist-packages (from pennylane) (1.3)\n",
            "Requirement already satisfied: toml in /usr/local/lib/python3.7/dist-packages (from pennylane) (0.10.2)\n",
            "Requirement already satisfied: appdirs in /usr/local/lib/python3.7/dist-packages (from pennylane) (1.4.4)\n",
            "Collecting semantic_version==2.6\n",
            "  Downloading https://files.pythonhosted.org/packages/28/be/3a7241d731ba89063780279a5433f5971c1cf41735b64a9f874b7c3ff995/semantic_version-2.6.0-py3-none-any.whl\n",
            "Requirement already satisfied: decorator>=4.3.0 in /usr/local/lib/python3.7/dist-packages (from networkx->pennylane) (4.4.2)\n",
            "Requirement already satisfied: future>=0.15.2 in /usr/local/lib/python3.7/dist-packages (from autograd->pennylane) (0.16.0)\n",
            "Building wheels for collected packages: pennylane\n",
            "  Building wheel for pennylane (setup.py) ... \u001b[?25l\u001b[?25hdone\n",
            "  Created wheel for pennylane: filename=PennyLane-0.14.1-cp37-none-any.whl size=481980 sha256=2c9b6a0d0f60341558deae3b05f54546bbd7d5b37ea04eba766a4c777757a6ba\n",
            "  Stored in directory: /root/.cache/pip/wheels/6e/a9/c9/04941d6dd58b3c111cbd1389bf63ba1b23362c137359af4626\n",
            "Successfully built pennylane\n",
            "Installing collected packages: semantic-version, pennylane\n",
            "Successfully installed pennylane-0.14.1 semantic-version-2.6.0\n"
          ],
          "name": "stdout"
        }
      ]
    },
    {
      "cell_type": "code",
      "metadata": {
        "id": "XC_fMRi2xoI1"
      },
      "source": [
        "from collections.abc import Iterable\n",
        "import copy\n",
        "import functools\n",
        "from functools import reduce, lru_cache\n",
        "from cachetools import cached, LRUCache, TTLCache\n",
        "import inspect\n",
        "import itertools\n",
        "import numbers\n",
        "from operator import matmul\n",
        "\n",
        "import numpy as np\n",
        "\n",
        "import pennylane as qml\n",
        "from pennylane.variable import Variable"
      ],
      "execution_count": null,
      "outputs": []
    },
    {
      "cell_type": "code",
      "metadata": {
        "id": "ZYobqqLRxvXm"
      },
      "source": [
        "def decompose(H, hide_identity=True):\n",
        "    r\"\"\"Decomposes a Hermitian matrix into a linear combination of Pauli operators.\n",
        "\n",
        "    Args:\n",
        "        H (array[complex]): a Hermitian matrix of dimension :math:`2^n\\times 2^n`\n",
        "        hide_identity (bool): does not include the :class:`~.Identity` observable within\n",
        "            the tensor products of the decomposition if ``True``\n",
        "\n",
        "    Returns:\n",
        "        tuple[list[float], list[~.Observable]]: a list of coefficients and a list\n",
        "        of corresponding tensor products of Pauli observables that decompose the Hamiltonian.\n",
        "\n",
        "    **Example:**\n",
        "\n",
        "    We can use this function to compute the Pauli operator decomposition of an arbitrary Hermitian\n",
        "    matrix:\n",
        "\n",
        "    >>> A = np.array(\n",
        "    ... [[-2, -2+1j, -2, -2], [-2-1j,  0,  0, -1], [-2,  0, -2, -1], [-2, -1, -1,  0]])\n",
        "    >>> coeffs, obs_list = decompose_hamiltonian(A)\n",
        "    >>> coeffs\n",
        "    [-1.0, -1.5, -0.5, -1.0, -1.5, -1.0, -0.5, 1.0, -0.5, -0.5]\n",
        "\n",
        "    We can use the output coefficients and tensor Pauli terms to construct a :class:`~.Hamiltonian`:\n",
        "\n",
        "    >>> H = qml.Hamiltonian(coeffs, obs_list)\n",
        "    >>> print(H)\n",
        "    (-1.0) [I0 I1]\n",
        "    + (-1.5) [X1]\n",
        "    + (-0.5) [Y1]\n",
        "    + (-1.0) [Z1]\n",
        "    + (-1.5) [X0]\n",
        "    + (-1.0) [X0 X1]\n",
        "    + (-0.5) [X0 Z1]\n",
        "    + (1.0) [Y0 Y1]\n",
        "    + (-0.5) [Z0 X1]\n",
        "    + (-0.5) [Z0 Y1]\n",
        "\n",
        "    This Hamiltonian can then be used in defining VQE problems using :class:`~.ExpvalCost`.\n",
        "    \"\"\"\n",
        "    n = int(np.log2(len(H)))\n",
        "    N = 2 ** n\n",
        "\n",
        "    if H.shape != (N, N):\n",
        "        raise ValueError(\n",
        "            \"The Hamiltonian should have shape (2**n, 2**n), for any qubit number n>=1\"\n",
        "        )\n",
        "\n",
        "    if not np.allclose(H, H.conj().T):\n",
        "        raise ValueError(\"The Hamiltonian is not Hermitian\")\n",
        "\n",
        "    paulis = [qml.Identity, qml.PauliX, qml.PauliY, qml.PauliZ]\n",
        "    obs = []\n",
        "    coeffs = []\n",
        "\n",
        "    for term in itertools.product(paulis, repeat=n):\n",
        "        matrices = [i._matrix() for i in term]\n",
        "        coeff = np.trace(functools.reduce(np.kron, matrices) @ H) / N\n",
        "        coeff = np.real_if_close(coeff).item()\n",
        "\n",
        "        if not np.allclose(coeff, 0):\n",
        "            coeffs.append(coeff)\n",
        "\n",
        "            if not all(t is qml.Identity for t in term) and hide_identity:\n",
        "                obs.append(\n",
        "                    functools.reduce(\n",
        "                        matmul,\n",
        "                        [t(i) for i, t in enumerate(term) if t is not qml.Identity],\n",
        "                    )\n",
        "                )\n",
        "            else:\n",
        "                obs.append(functools.reduce(matmul, [t(i) for i, t in enumerate(term)]))\n",
        "\n",
        "    print(coeffs)\n",
        "    print(obs)"
      ],
      "execution_count": null,
      "outputs": []
    },
    {
      "cell_type": "code",
      "metadata": {
        "colab": {
          "base_uri": "https://localhost:8080/"
        },
        "id": "f1mkN76nx9B-",
        "outputId": "0553e5db-6954-43f4-e386-8b2cfa50269a"
      },
      "source": [
        "from datetime import datetime\n",
        "start=datetime.now()\n",
        "\n",
        "H = np.array([[ 1.5,  0,  0,  0.5, 0, 0.5, 0.5, 0],\n",
        "       [ 0, 0.5,  0,  0,  0, 0, 0, 0.5],\n",
        "       [ 0, 0, 0.5, 0, 0, 0, 0, 0.5],\n",
        "       [0.5, 0, 0, -0.5, 0, 0, 0, 0],\n",
        "       [0, 0, 0, 0, 0.5, 0, 0, 0.5],\n",
        "       [0.5, 0, 0, 0, 0, -0.5, 0, 0],\n",
        "       [0.5, 0, 0, 0, 0, 0, -0.5, 0],\n",
        "       [0, 0.5, 0.5, 0, 0.5, 0, 0, -1.5]], dtype=np.complex128)\n",
        "decompose(H)\n",
        "print( datetime.now()-start)"
      ],
      "execution_count": null,
      "outputs": [
        {
          "output_type": "stream",
          "text": [
            "[0.5, 0.25, -0.25, 0.5, 0.25, 0.25, -0.25, -0.25, 0.5]\n",
            "[PauliZ(wires=[2]), PauliX(wires=[1]) @ PauliX(wires=[2]), PauliY(wires=[1]) @ PauliY(wires=[2]), PauliZ(wires=[1]), PauliX(wires=[0]) @ PauliX(wires=[2]), PauliX(wires=[0]) @ PauliX(wires=[1]), PauliY(wires=[0]) @ PauliY(wires=[2]), PauliY(wires=[0]) @ PauliY(wires=[1]), PauliZ(wires=[0])]\n",
            "0:00:00.039305\n"
          ],
          "name": "stdout"
        }
      ]
    }
  ]
}